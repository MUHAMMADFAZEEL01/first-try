{
  "nbformat": 4,
  "nbformat_minor": 0,
  "metadata": {
    "colab": {
      "provenance": [],
      "gpuType": "T4",
      "authorship_tag": "ABX9TyP+cW0ZjA4e5PBQGoaiwuDZ",
      "include_colab_link": true
    },
    "kernelspec": {
      "name": "python3",
      "display_name": "Python 3"
    },
    "language_info": {
      "name": "python"
    },
    "accelerator": "GPU"
  },
  "cells": [
    {
      "cell_type": "markdown",
      "metadata": {
        "id": "view-in-github",
        "colab_type": "text"
      },
      "source": [
        "<a href=\"https://colab.research.google.com/github/MUHAMMADFAZEEL01/first-try/blob/main/PROJECT_02_(RAG).ipynb\" target=\"_parent\"><img src=\"https://colab.research.google.com/assets/colab-badge.svg\" alt=\"Open In Colab\"/></a>"
      ]
    },
    {
      "cell_type": "code",
      "execution_count": 1,
      "metadata": {
        "id": "N4pdZlPBZ0J_",
        "colab": {
          "base_uri": "https://localhost:8080/"
        },
        "outputId": "1a7ce3ff-863e-47b4-8d51-90aa93ac7f8b",
        "collapsed": true
      },
      "outputs": [
        {
          "output_type": "stream",
          "name": "stdout",
          "text": [
            "\u001b[?25l   \u001b[90m━━━━━━━━━━━━━━━━━━━━━━━━━━━━━━━━━━━━━━━━\u001b[0m \u001b[32m0.0/2.5 MB\u001b[0m \u001b[31m?\u001b[0m eta \u001b[36m-:--:--\u001b[0m\r\u001b[2K   \u001b[91m━━━━━━━━━━━━━━━━━━━━━━━\u001b[0m\u001b[91m╸\u001b[0m\u001b[90m━━━━━━━━━━━━━━━━\u001b[0m \u001b[32m1.5/2.5 MB\u001b[0m \u001b[31m48.2 MB/s\u001b[0m eta \u001b[36m0:00:01\u001b[0m\r\u001b[2K   \u001b[90m━━━━━━━━━━━━━━━━━━━━━━━━━━━━━━━━━━━━━━━━\u001b[0m \u001b[32m2.5/2.5 MB\u001b[0m \u001b[31m38.1 MB/s\u001b[0m eta \u001b[36m0:00:00\u001b[0m\n",
            "\u001b[?25h\u001b[?25l   \u001b[90m━━━━━━━━━━━━━━━━━━━━━━━━━━━━━━━━━━━━━━━━\u001b[0m \u001b[32m0.0/1.0 MB\u001b[0m \u001b[31m?\u001b[0m eta \u001b[36m-:--:--\u001b[0m\r\u001b[2K   \u001b[91m━━━━━━━━━━━━━━━━━━━━━━━━━━━━━━━━━━━━━━━\u001b[0m\u001b[91m╸\u001b[0m \u001b[32m1.0/1.0 MB\u001b[0m \u001b[31m88.1 MB/s\u001b[0m eta \u001b[36m0:00:01\u001b[0m\r\u001b[2K   \u001b[90m━━━━━━━━━━━━━━━━━━━━━━━━━━━━━━━━━━━━━━━━\u001b[0m \u001b[32m1.0/1.0 MB\u001b[0m \u001b[31m30.6 MB/s\u001b[0m eta \u001b[36m0:00:00\u001b[0m\n",
            "\u001b[2K   \u001b[90m━━━━━━━━━━━━━━━━━━━━━━━━━━━━━━━━━━━━━━━━\u001b[0m \u001b[32m41.3/41.3 kB\u001b[0m \u001b[31m4.0 MB/s\u001b[0m eta \u001b[36m0:00:00\u001b[0m\n",
            "\u001b[2K   \u001b[90m━━━━━━━━━━━━━━━━━━━━━━━━━━━━━━━━━━━━━━━━\u001b[0m \u001b[32m1.2/1.2 MB\u001b[0m \u001b[31m35.9 MB/s\u001b[0m eta \u001b[36m0:00:00\u001b[0m\n",
            "\u001b[2K   \u001b[90m━━━━━━━━━━━━━━━━━━━━━━━━━━━━━━━━━━━━━━━━\u001b[0m \u001b[32m411.6/411.6 kB\u001b[0m \u001b[31m10.9 MB/s\u001b[0m eta \u001b[36m0:00:00\u001b[0m\n",
            "\u001b[2K   \u001b[90m━━━━━━━━━━━━━━━━━━━━━━━━━━━━━━━━━━━━━━━━\u001b[0m \u001b[32m244.8/244.8 kB\u001b[0m \u001b[31m17.7 MB/s\u001b[0m eta \u001b[36m0:00:00\u001b[0m\n",
            "\u001b[2K   \u001b[90m━━━━━━━━━━━━━━━━━━━━━━━━━━━━━━━━━━━━━━━━\u001b[0m \u001b[32m48.9/48.9 kB\u001b[0m \u001b[31m3.7 MB/s\u001b[0m eta \u001b[36m0:00:00\u001b[0m\n",
            "\u001b[2K   \u001b[90m━━━━━━━━━━━━━━━━━━━━━━━━━━━━━━━━━━━━━━━━\u001b[0m \u001b[32m85.4/85.4 kB\u001b[0m \u001b[31m6.1 MB/s\u001b[0m eta \u001b[36m0:00:00\u001b[0m\n",
            "\u001b[?25h"
          ]
        }
      ],
      "source": [
        "!pip install -q langchain langchain-community langchain_google_genai langchain_pinecone"
      ]
    },
    {
      "cell_type": "code",
      "source": [
        "import os\n",
        "from google.colab import userdata\n",
        "import langchain\n",
        "os.environ['PINECONE_API_KEY'] = userdata.get('PINECONE_API_KEY')\n",
        "os.environ['GEMINI_API_KEY'] = userdata.get('GEMINI_API_KEY')"
      ],
      "metadata": {
        "id": "Ic5DEVMLag97"
      },
      "execution_count": 2,
      "outputs": []
    },
    {
      "cell_type": "code",
      "source": [
        "os.environ[\"GOOGLE_APPLICATION_CREDENTIALS\"] = \"/content/ragproject-446611-8c78fb8b1c9a.json\"\n"
      ],
      "metadata": {
        "id": "-sAxPRJ1BDay"
      },
      "execution_count": 4,
      "outputs": []
    },
    {
      "cell_type": "code",
      "source": [
        "from langchain_google_genai import GoogleGenerativeAIEmbeddings\n",
        "embeddings = GoogleGenerativeAIEmbeddings(model=\"models/embedding-001\")\n",
        "\n"
      ],
      "metadata": {
        "id": "tDEvudmEiVTZ",
        "collapsed": true
      },
      "execution_count": 5,
      "outputs": []
    },
    {
      "cell_type": "code",
      "source": [
        "import pinecone\n",
        "from pinecone import Pinecone, ServerlessSpec\n",
        "pc = Pinecone(api_key = os.environ.get('PINECONE_API_KEY'))\n",
        "spec=ServerlessSpec(cloud=\"aws\", region=\"us-east-1\")"
      ],
      "metadata": {
        "id": "Dm-d33CTsE3q"
      },
      "execution_count": 6,
      "outputs": []
    },
    {
      "cell_type": "code",
      "source": [
        "\n",
        "if 'rag' not in pc.list_indexes():\n",
        "  pc.create_index(\n",
        "      name =  'rag' ,\n",
        "      dimension =768,\n",
        "      metric ='cosine',\n",
        "      spec = spec\n",
        "  )\n"
      ],
      "metadata": {
        "id": "B0ELiyysoWrk",
        "collapsed": true
      },
      "execution_count": null,
      "outputs": []
    },
    {
      "cell_type": "code",
      "source": [
        "index = pc.Index('rag')"
      ],
      "metadata": {
        "id": "cUdEdViBuoQ3"
      },
      "execution_count": 8,
      "outputs": []
    },
    {
      "cell_type": "code",
      "source": [
        "pc.describe_index('rag')"
      ],
      "metadata": {
        "colab": {
          "base_uri": "https://localhost:8080/"
        },
        "collapsed": true,
        "id": "UBQa67saupZF",
        "outputId": "7263e213-717e-4504-c0fd-f3dc2635fa7b"
      },
      "execution_count": 9,
      "outputs": [
        {
          "output_type": "execute_result",
          "data": {
            "text/plain": [
              "{'deletion_protection': 'disabled',\n",
              " 'dimension': 768,\n",
              " 'host': 'rag-asi64lk.svc.aped-4627-b74a.pinecone.io',\n",
              " 'metric': 'cosine',\n",
              " 'name': 'rag',\n",
              " 'spec': {'serverless': {'cloud': 'aws', 'region': 'us-east-1'}},\n",
              " 'status': {'ready': True, 'state': 'Ready'}}"
            ]
          },
          "metadata": {},
          "execution_count": 9
        }
      ]
    },
    {
      "cell_type": "code",
      "source": [
        "from langchain.document_loaders import TextLoader\n",
        "from langchain.document_loaders import pdf\n",
        "from langchain.text_splitter import RecursiveCharacterTextSplitter\n"
      ],
      "metadata": {
        "collapsed": true,
        "id": "QUtn0VeethPF"
      },
      "execution_count": 10,
      "outputs": []
    },
    {
      "cell_type": "code",
      "source": [
        "!pip install --upgrade --quiet pypdf"
      ],
      "metadata": {
        "id": "7z97GoJY1mgG",
        "colab": {
          "base_uri": "https://localhost:8080/"
        },
        "outputId": "46cb0dd4-9886-4e9d-9021-ab9b041d1ba7",
        "collapsed": true
      },
      "execution_count": 11,
      "outputs": [
        {
          "output_type": "stream",
          "name": "stdout",
          "text": [
            "\u001b[?25l   \u001b[90m━━━━━━━━━━━━━━━━━━━━━━━━━━━━━━━━━━━━━━━━\u001b[0m \u001b[32m0.0/298.0 kB\u001b[0m \u001b[31m?\u001b[0m eta \u001b[36m-:--:--\u001b[0m\r\u001b[2K   \u001b[91m━━━━━━━━━━━━━━━━━━━━━━━━━━━━━━━\u001b[0m\u001b[91m╸\u001b[0m\u001b[90m━━━━━━━━\u001b[0m \u001b[32m235.5/298.0 kB\u001b[0m \u001b[31m6.8 MB/s\u001b[0m eta \u001b[36m0:00:01\u001b[0m\r\u001b[2K   \u001b[90m━━━━━━━━━━━━━━━━━━━━━━━━━━━━━━━━━━━━━━━━\u001b[0m \u001b[32m298.0/298.0 kB\u001b[0m \u001b[31m6.5 MB/s\u001b[0m eta \u001b[36m0:00:00\u001b[0m\n",
            "\u001b[?25h"
          ]
        }
      ]
    },
    {
      "cell_type": "code",
      "source": [
        "from langchain_community.document_loaders import PyPDFLoader\n",
        "\n",
        "filepdf= (\n",
        "    '/content/Strategic Mindset  A 7-Day Plan to Identify What Matters and Create a Strategy that Works (Productivity Series Book 4) (Thibaut  Meurisse) (Z-Library).pdf'\n",
        ")\n",
        "loader = PyPDFLoader(filepdf)\n"
      ],
      "metadata": {
        "id": "Ufg51XZj1duO"
      },
      "execution_count": 12,
      "outputs": []
    },
    {
      "cell_type": "code",
      "source": [
        "documents =loader.load()\n",
        "text_splitter = RecursiveCharacterTextSplitter(chunk_size=1000, chunk_overlap=100)\n",
        "docs = text_splitter.split_documents(documents)"
      ],
      "metadata": {
        "id": "d8OODBwu11ey"
      },
      "execution_count": 13,
      "outputs": []
    },
    {
      "cell_type": "code",
      "source": [
        "for doc in docs:\n",
        "    # Generate vector for the document\n",
        "    vector = embeddings.embed_query(doc.page_content)\n",
        "    metadata = {\"source\": doc.metadata.get(\"source\", \"unknown\")}\n",
        "    index.upsert([(doc.metadata['source'], vector, metadata)])  # (id, vector, metadata)\n",
        "\n"
      ],
      "metadata": {
        "id": "Uv3rGEz5G395"
      },
      "execution_count": 16,
      "outputs": []
    },
    {
      "cell_type": "code",
      "source": [
        "retriever = Pinecone(index=index, embedding=embeddings, text_key=\"text\")"
      ],
      "metadata": {
        "id": "Lq_cE26H4hZI"
      },
      "execution_count": 17,
      "outputs": []
    },
    {
      "cell_type": "code",
      "source": [
        "from langchain_pinecone import PineconeVectorStore"
      ],
      "metadata": {
        "id": "gdtBmQIFeKFL"
      },
      "execution_count": 18,
      "outputs": []
    },
    {
      "cell_type": "code",
      "source": [
        "vector_store = PineconeVectorStore(index=index, embedding=embeddings)"
      ],
      "metadata": {
        "id": "vn3HsIvTBAD4"
      },
      "execution_count": 19,
      "outputs": []
    },
    {
      "cell_type": "code",
      "source": [
        "vector_store = PineconeVectorStore(\n",
        "    index=index,\n",
        "    embedding=embeddings,\n",
        "    text_key=\"text\",\n",
        ")"
      ],
      "metadata": {
        "id": "Pkxc2oAg9Lr-"
      },
      "execution_count": 20,
      "outputs": []
    },
    {
      "cell_type": "code",
      "source": [
        "results = vector_store.similarity_search(\n",
        "    \"purpose of this book?\",\n",
        "    k=2,\n",
        ")\n",
        "\n"
      ],
      "metadata": {
        "id": "6UbvQYpi5j_f",
        "collapsed": true
      },
      "execution_count": 21,
      "outputs": []
    },
    {
      "cell_type": "code",
      "source": [
        "from IPython.display import Markdown, display\n",
        "for res in results:\n",
        "     p = res.page_content\n",
        "     display(Markdown(p))\n",
        "\n",
        "\n"
      ],
      "metadata": {
        "colab": {
          "base_uri": "https://localhost:8080/",
          "height": 174
        },
        "id": "zrIW96bBAcqq",
        "outputId": "0e1263d6-c394-40ab-e7af-b8df1ef49384",
        "collapsed": true
      },
      "execution_count": 25,
      "outputs": [
        {
          "output_type": "display_data",
          "data": {
            "text/plain": [
              "<IPython.core.display.Markdown object>"
            ],
            "text/markdown": "Then, using the content from this book, develop the mindset of the strategic\nproducer. Whenever you face a new task, ask yourself whether it’s really\nthe best use of your time. If you do this consistently, over time, you’ll\nbecome one of the best strategists you know. More importantly, you’ll reach\nmost of your goals, even the ones that seem difficult or perhaps impossible\nright now.\nIt’s now up to you to perform the work and achieve the results you aspire\nto. I can’t do the work for you, but I can wish you all the best in your future\nendeavors.\nThibaut Meurisse."
          },
          "metadata": {}
        },
        {
          "output_type": "display_data",
          "data": {
            "text/plain": [
              "<IPython.core.display.Markdown object>"
            ],
            "text/markdown": "Then, using the content from this book, develop the mindset of the strategic\nproducer. Whenever you face a new task, ask yourself whether it’s really\nthe best use of your time. If you do this consistently, over time, you’ll\nbecome one of the best strategists you know. More importantly, you’ll reach\nmost of your goals, even the ones that seem difficult or perhaps impossible\nright now.\nIt’s now up to you to perform the work and achieve the results you aspire\nto. I can’t do the work for you, but I can wish you all the best in your future\nendeavors.\nThibaut Meurisse."
          },
          "metadata": {}
        }
      ]
    },
    {
      "cell_type": "code",
      "source": [
        "from langchain_google_genai import ChatGoogleGenerativeAI\n",
        "model = ChatGoogleGenerativeAI(api_key=os.environ.get('GEMINI_API_KEY'),temperature =0, model=\"gemini-1.5-flash\", max_retries=2)"
      ],
      "metadata": {
        "id": "iJTAUd1E46k1"
      },
      "execution_count": 23,
      "outputs": []
    },
    {
      "cell_type": "code",
      "source": [
        "def main(query,vector_store):\n",
        "\n",
        "  results = vector_store.similarity_search(query,k=3)\n",
        "  context = '\\n'.join([res.page_content for res in results])\n",
        "\n",
        "  response = model.invoke( f\" You're AI asistence in the below context is given please give me answer of the query in which is context: {context} query: {query} \")\n",
        "  return response\n",
        "\n",
        "question =str( input(\" Write a question which is realted to the Strategic Mindset  A 7-Day Plan\"))\n",
        "result = main(question,vector_store)\n",
        "display(Markdown(result.content))"
      ],
      "metadata": {
        "id": "_yoVRPloe5NG",
        "colab": {
          "base_uri": "https://localhost:8080/",
          "height": 159
        },
        "collapsed": true,
        "outputId": "aab0df0b-921d-42d8-984a-5b90a2f8e24e"
      },
      "execution_count": 31,
      "outputs": [
        {
          "name": "stdout",
          "output_type": "stream",
          "text": [
            " Write a question which is realted to the Strategic Mindset  A 7-Day Plandescribe the purpose of this book and if i read this book what can i achieve in my life with the help of this book\n"
          ]
        },
        {
          "output_type": "display_data",
          "data": {
            "text/plain": [
              "<IPython.core.display.Markdown object>"
            ],
            "text/markdown": "The purpose of the book is to help you develop a highly effective strategy to achieve your goals.  It's designed to be used in conjunction with a workbook (available for download at https://whatispersonaldevelopment.org/strategic-mindset or at the end of the book).\n\nBy reading this book and completing the workbook, you can achieve a more strategic mindset, enabling you to better plan and execute your goals in life.  The exact achievements will depend on your individual goals, but the book aims to equip you with the tools and framework to make significant progress towards whatever you want to accomplish.\n"
          },
          "metadata": {}
        }
      ]
    }
  ]
}